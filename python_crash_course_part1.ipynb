{
 "cells": [
  {
   "cell_type": "code",
   "execution_count": 4,
   "id": "38e74088",
   "metadata": {},
   "outputs": [
    {
     "name": "stdout",
     "output_type": "stream",
     "text": [
      "Hello my na,me is Moussa\n"
     ]
    }
   ],
   "source": [
    "print(\"Hello World!\")\n",
    "\n",
    "print(\"Python is fun to learn!\")\n",
    "\n",
    "print(\"Hello my na,me is Moussa\")"
   ]
  },
  {
   "cell_type": "markdown",
   "id": "5a8b2575",
   "metadata": {},
   "source": [
    "moussa"
   ]
  },
  {
   "cell_type": "markdown",
   "id": "93435954",
   "metadata": {},
   "source": [
    "# TITLE"
   ]
  },
  {
   "cell_type": "markdown",
   "id": "a2f8086d",
   "metadata": {},
   "source": [
    "## Sub-title"
   ]
  },
  {
   "cell_type": "code",
   "execution_count": 10,
   "id": "396c5c04",
   "metadata": {},
   "outputs": [
    {
     "data": {
      "text/plain": [
       "'Generating random paragraphs can be an excellent way for writers to get their creative flow going at the beginning of the day. The writer has no idea what topic the random paragraph will be about when it appears. This forces the writer to use creativity to complete one of three common writing challenges. The writer can use the paragraph as the first one of a short story and build upon it. A second option is to use the random paragraph somewhere in a short story they create. The third option is to have the random paragraph be the ending paragraph in a short story.'"
      ]
     },
     "execution_count": 10,
     "metadata": {},
     "output_type": "execute_result"
    }
   ],
   "source": [
    "\"\"\"Generating random paragraphs can be an excellent way for writers to get their creative flow going at the beginning of the day. The writer has no idea what topic the random paragraph will be about when it appears. This forces the writer to use creativity to complete one of three common writing challenges. The writer can use the paragraph as the first one of a short story and build upon it. A second option is to use the random paragraph somewhere in a short story they create. The third option is to have the random paragraph be the ending paragraph in a short story.\"\"\""
   ]
  },
  {
   "cell_type": "markdown",
   "id": "8ea468df",
   "metadata": {},
   "source": [
    "* # Boulet\n",
    "    * Sub"
   ]
  },
  {
   "cell_type": "markdown",
   "id": "1988bdfa",
   "metadata": {},
   "source": [
    "#*Italic*"
   ]
  },
  {
   "cell_type": "markdown",
   "id": "b97e2901",
   "metadata": {},
   "source": [
    "ipynb save it as .py\n"
   ]
  },
  {
   "cell_type": "markdown",
   "id": "62c2e08b",
   "metadata": {},
   "source": [
    "#  * Data types and Operations \n",
    "1. Operations\n",
    "2. Data types"
   ]
  },
  {
   "cell_type": "markdown",
   "id": "88c9e707",
   "metadata": {},
   "source": [
    "### Addition"
   ]
  },
  {
   "cell_type": "code",
   "execution_count": 2,
   "id": "0f08cca1",
   "metadata": {},
   "outputs": [
    {
     "data": {
      "text/plain": [
       "5"
      ]
     },
     "execution_count": 2,
     "metadata": {},
     "output_type": "execute_result"
    }
   ],
   "source": [
    "3 + 2"
   ]
  },
  {
   "cell_type": "code",
   "execution_count": 3,
   "id": "a4890ee9",
   "metadata": {},
   "outputs": [
    {
     "data": {
      "text/plain": [
       "8.2"
      ]
     },
     "execution_count": 3,
     "metadata": {},
     "output_type": "execute_result"
    }
   ],
   "source": [
    "2.5 + 5.7"
   ]
  },
  {
   "cell_type": "markdown",
   "id": "7806f4a7",
   "metadata": {},
   "source": [
    "### Subtraction"
   ]
  },
  {
   "cell_type": "code",
   "execution_count": 5,
   "id": "b77decc9",
   "metadata": {},
   "outputs": [
    {
     "data": {
      "text/plain": [
       "1"
      ]
     },
     "execution_count": 5,
     "metadata": {},
     "output_type": "execute_result"
    }
   ],
   "source": [
    "3 - 2"
   ]
  },
  {
   "cell_type": "code",
   "execution_count": 6,
   "id": "a25b69c1",
   "metadata": {},
   "outputs": [
    {
     "data": {
      "text/plain": [
       "-3.5"
      ]
     },
     "execution_count": 6,
     "metadata": {},
     "output_type": "execute_result"
    }
   ],
   "source": [
    "0.5 - 4"
   ]
  },
  {
   "cell_type": "markdown",
   "id": "ee00eeb2",
   "metadata": {},
   "source": [
    "### Multiplication"
   ]
  },
  {
   "cell_type": "code",
   "execution_count": 8,
   "id": "08e10afc",
   "metadata": {},
   "outputs": [
    {
     "data": {
      "text/plain": [
       "6"
      ]
     },
     "execution_count": 8,
     "metadata": {},
     "output_type": "execute_result"
    }
   ],
   "source": [
    "3*2"
   ]
  },
  {
   "cell_type": "code",
   "execution_count": 9,
   "id": "cb22b3b9",
   "metadata": {},
   "outputs": [
    {
     "data": {
      "text/plain": [
       "4.0"
      ]
     },
     "execution_count": 9,
     "metadata": {},
     "output_type": "execute_result"
    }
   ],
   "source": [
    "0.5*8"
   ]
  },
  {
   "cell_type": "markdown",
   "id": "6bc16d92",
   "metadata": {},
   "source": [
    "### Regular Division"
   ]
  },
  {
   "cell_type": "code",
   "execution_count": 10,
   "id": "befe5d21",
   "metadata": {},
   "outputs": [
    {
     "data": {
      "text/plain": [
       "2.4"
      ]
     },
     "execution_count": 10,
     "metadata": {},
     "output_type": "execute_result"
    }
   ],
   "source": [
    "12/5"
   ]
  },
  {
   "cell_type": "code",
   "execution_count": 11,
   "id": "dd590a12",
   "metadata": {},
   "outputs": [
    {
     "data": {
      "text/plain": [
       "0.0625"
      ]
     },
     "execution_count": 11,
     "metadata": {},
     "output_type": "execute_result"
    }
   ],
   "source": [
    "0.25/4"
   ]
  },
  {
   "cell_type": "code",
   "execution_count": 12,
   "id": "f05e3d8c",
   "metadata": {},
   "outputs": [
    {
     "data": {
      "text/plain": [
       "1000.0"
      ]
     },
     "execution_count": 12,
     "metadata": {},
     "output_type": "execute_result"
    }
   ],
   "source": [
    "1/0.001"
   ]
  },
  {
   "cell_type": "markdown",
   "id": "717b8d7c",
   "metadata": {},
   "source": [
    "### Interger Division"
   ]
  },
  {
   "cell_type": "code",
   "execution_count": 13,
   "id": "0225982f",
   "metadata": {},
   "outputs": [
    {
     "data": {
      "text/plain": [
       "2"
      ]
     },
     "execution_count": 13,
     "metadata": {},
     "output_type": "execute_result"
    }
   ],
   "source": [
    "12//5"
   ]
  },
  {
   "cell_type": "code",
   "execution_count": 14,
   "id": "b63c30d7",
   "metadata": {},
   "outputs": [
    {
     "data": {
      "text/plain": [
       "0.0"
      ]
     },
     "execution_count": 14,
     "metadata": {},
     "output_type": "execute_result"
    }
   ],
   "source": [
    "0.25//4"
   ]
  },
  {
   "cell_type": "code",
   "execution_count": 15,
   "id": "616f1487",
   "metadata": {},
   "outputs": [
    {
     "data": {
      "text/plain": [
       "7"
      ]
     },
     "execution_count": 15,
     "metadata": {},
     "output_type": "execute_result"
    }
   ],
   "source": [
    "15//2"
   ]
  },
  {
   "cell_type": "markdown",
   "id": "c7e214b6",
   "metadata": {},
   "source": [
    "### Modules\n",
    "returns the remmender of the division"
   ]
  },
  {
   "cell_type": "code",
   "execution_count": 17,
   "id": "a27553cd",
   "metadata": {},
   "outputs": [
    {
     "data": {
      "text/plain": [
       "1"
      ]
     },
     "execution_count": 17,
     "metadata": {},
     "output_type": "execute_result"
    }
   ],
   "source": [
    "15 % 2"
   ]
  },
  {
   "cell_type": "code",
   "execution_count": 18,
   "id": "1766a569",
   "metadata": {},
   "outputs": [
    {
     "data": {
      "text/plain": [
       "3"
      ]
     },
     "execution_count": 18,
     "metadata": {},
     "output_type": "execute_result"
    }
   ],
   "source": [
    "23 % 5"
   ]
  },
  {
   "cell_type": "code",
   "execution_count": 20,
   "id": "3ebc9898",
   "metadata": {},
   "outputs": [
    {
     "data": {
      "text/plain": [
       "4"
      ]
     },
     "execution_count": 20,
     "metadata": {},
     "output_type": "execute_result"
    }
   ],
   "source": [
    "-51 % 5"
   ]
  },
  {
   "cell_type": "code",
   "execution_count": 21,
   "id": "753daf1d",
   "metadata": {},
   "outputs": [
    {
     "data": {
      "text/plain": [
       "0"
      ]
     },
     "execution_count": 21,
     "metadata": {},
     "output_type": "execute_result"
    }
   ],
   "source": [
    "12 % 2"
   ]
  },
  {
   "cell_type": "code",
   "execution_count": 22,
   "id": "d198dc7e",
   "metadata": {},
   "outputs": [
    {
     "data": {
      "text/plain": [
       "0"
      ]
     },
     "execution_count": 22,
     "metadata": {},
     "output_type": "execute_result"
    }
   ],
   "source": [
    "6 % 2"
   ]
  },
  {
   "cell_type": "markdown",
   "id": "efcdca52",
   "metadata": {},
   "source": [
    "### Power\n",
    "exponet operations"
   ]
  },
  {
   "cell_type": "code",
   "execution_count": 24,
   "id": "07d4473c",
   "metadata": {},
   "outputs": [
    {
     "data": {
      "text/plain": [
       "16"
      ]
     },
     "execution_count": 24,
     "metadata": {},
     "output_type": "execute_result"
    }
   ],
   "source": [
    "2**4"
   ]
  },
  {
   "cell_type": "code",
   "execution_count": 25,
   "id": "c3b01882",
   "metadata": {},
   "outputs": [
    {
     "data": {
      "text/plain": [
       "9"
      ]
     },
     "execution_count": 25,
     "metadata": {},
     "output_type": "execute_result"
    }
   ],
   "source": [
    "3**2"
   ]
  },
  {
   "cell_type": "code",
   "execution_count": 26,
   "id": "e967d829",
   "metadata": {},
   "outputs": [
    {
     "data": {
      "text/plain": [
       "16"
      ]
     },
     "execution_count": 26,
     "metadata": {},
     "output_type": "execute_result"
    }
   ],
   "source": [
    "(-4)**2"
   ]
  },
  {
   "cell_type": "markdown",
   "id": "b75bf85c",
   "metadata": {},
   "source": [
    "### Boolean"
   ]
  },
  {
   "cell_type": "code",
   "execution_count": 28,
   "id": "4bf4856f",
   "metadata": {},
   "outputs": [
    {
     "data": {
      "text/plain": [
       "False"
      ]
     },
     "execution_count": 28,
     "metadata": {},
     "output_type": "execute_result"
    }
   ],
   "source": [
    "2 > 5"
   ]
  },
  {
   "cell_type": "code",
   "execution_count": 29,
   "id": "53a6a204",
   "metadata": {},
   "outputs": [
    {
     "data": {
      "text/plain": [
       "True"
      ]
     },
     "execution_count": 29,
     "metadata": {},
     "output_type": "execute_result"
    }
   ],
   "source": [
    "7 <= 8"
   ]
  },
  {
   "cell_type": "code",
   "execution_count": 30,
   "id": "028e9d78",
   "metadata": {},
   "outputs": [
    {
     "data": {
      "text/plain": [
       "False"
      ]
     },
     "execution_count": 30,
     "metadata": {},
     "output_type": "execute_result"
    }
   ],
   "source": [
    "(20 > 100) and (16 < 25)"
   ]
  },
  {
   "cell_type": "code",
   "execution_count": null,
   "id": "878aa90a",
   "metadata": {},
   "outputs": [],
   "source": [
    "AND \n",
    "|TRUSE| FALSE | AND|\n",
    "| T|T |T   | |  T. |\n",
    "|F.|T.    |     F. |\n",
    "|F. | F.    |.  F. |\n",
    "|T. | F.    |   F  |"
   ]
  },
  {
   "cell_type": "code",
   "execution_count": null,
   "id": "f6e6488d",
   "metadata": {},
   "outputs": [],
   "source": [
    "# OR\n",
    "---------------\n",
    "|TRUSE| FALSE | OR|\n",
    "| T|T |T    |   T  |\n",
    "|F.|T.      |   T. |\n",
    "|F. | F.    |.  F. |\n",
    "|T. | F.    |   T  |\n",
    "\n"
   ]
  },
  {
   "cell_type": "code",
   "execution_count": 32,
   "id": "0e66aacc",
   "metadata": {},
   "outputs": [
    {
     "data": {
      "text/plain": [
       "False"
      ]
     },
     "execution_count": 32,
     "metadata": {},
     "output_type": "execute_result"
    }
   ],
   "source": [
    "(20 > 100) or (16 > 25)"
   ]
  },
  {
   "cell_type": "code",
   "execution_count": null,
   "id": "0c2a46db",
   "metadata": {},
   "outputs": [],
   "source": []
  }
 ],
 "metadata": {
  "kernelspec": {
   "display_name": "Python 3 (ipykernel)",
   "language": "python",
   "name": "python3"
  },
  "language_info": {
   "codemirror_mode": {
    "name": "ipython",
    "version": 3
   },
   "file_extension": ".py",
   "mimetype": "text/x-python",
   "name": "python",
   "nbconvert_exporter": "python",
   "pygments_lexer": "ipython3",
   "version": "3.11.4"
  }
 },
 "nbformat": 4,
 "nbformat_minor": 5
}
